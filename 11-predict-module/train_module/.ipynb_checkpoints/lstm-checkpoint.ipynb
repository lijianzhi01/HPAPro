{
 "cells": [
  {
   "cell_type": "code",
   "execution_count": null,
   "id": "aa03feea-8a1b-48f9-b491-0f48b2c4e3ec",
   "metadata": {},
   "outputs": [],
   "source": [
    "import pandas as pd  \n",
    "import numpy as np  \n",
    "from sklearn.preprocessing import MinMaxScaler  \n",
    "from keras.models import Sequential  \n",
    "from keras.layers import LSTM, Dense  \n",
    "from keras.layers import Input  \n",
    "from keras.models import Model \n",
    "  \n",
    "# Load your data  \n",
    "df = pd.read_csv('cpu_usage_per_machine.csv')  \n",
    "\n",
    "# Filter the data for a specific machine  \n",
    "machine_id = 381129  # replace with the ID of the machine you're interested in  \n",
    "df = df[df['machine_id'] == machine_id] \n",
    "  \n",
    "# For the purpose of the example, I'm assuming the data is already loaded into 'df'  \n",
    "# original data looks like this:\n",
    "#             start_time  machine_id  maximum_cpu_usage\n",
    "# 0  2011-05-01 00:10:00      381129           0.909131\n",
    "# 1  2011-05-01 00:10:00      765912           0.539429\n",
    "df['start_time'] = pd.to_datetime(df['start_time'])  \n",
    "# set the index to be the date\n",
    "#                      machine_id  maximum_cpu_usage\n",
    "# start_time\n",
    "# 2011-05-01 00:10:00      381129           0.909131\n",
    "# 2011-05-01 00:10:00      765912           0.539429\n",
    "df.set_index('start_time', inplace=True)  \n",
    "  \n",
    "# Scale your data  \n",
    "scaler = MinMaxScaler(feature_range=(0,1))\n",
    "# scaled_data looks like this:  \n",
    "# [[0.01665592]\n",
    "#  [0.00988272]\n",
    "#  [0.01105831]\n",
    "#  [0.00041936]\n",
    "#  [0.01263697]]\n",
    "scaled_data = scaler.fit_transform(df['maximum_cpu_usage'].values.reshape(-1,1))  \n",
    "print(scaled_data[:5])"
   ]
  },
  {
   "cell_type": "code",
   "execution_count": 2,
   "id": "e951f5d7-2977-4ed0-8045-09136c805c23",
   "metadata": {},
   "outputs": [],
   "source": [
    "# Prepare your dataset for LSTM  \n",
    "def create_dataset(X, time_steps_in=1, time_steps_out=1):  \n",
    "    Xs, ys = [], []  \n",
    "    for i in range(len(X) - time_steps_in - time_steps_out + 1):  \n",
    "        Xs.append(X[i:(i + time_steps_in)])  \n",
    "        ys.append(X[(i + time_steps_in):(i + time_steps_in + time_steps_out)])  \n",
    "    return np.array(Xs), np.array(ys)  \n",
    "  \n",
    "time_steps_in = 30  \n",
    "time_steps_out = 10  \n",
    "  \n",
    "# Split the data into train and test sets  \n",
    "train_size = int(len(scaled_data) * 0.7)  \n",
    "test_size = len(scaled_data) - train_size  \n",
    "train, test = scaled_data[0:train_size,:], scaled_data[train_size:len(scaled_data),:]  \n",
    "  \n",
    "trainX, trainY = create_dataset(train, time_steps_in, time_steps_out)  \n",
    "testX, testY = create_dataset(test, time_steps_in, time_steps_out)\n",
    "  \n",
    "# Reshape input to be [samples, time steps, features]    \n",
    "trainX = np.reshape(trainX, (trainX.shape[0], trainX.shape[1], 1))    \n",
    "testX = np.reshape(testX, (testX.shape[0], testX.shape[1], 1))   \n"
   ]
  },
  {
   "cell_type": "code",
   "execution_count": 3,
   "id": "0cb40a7e-e3c5-42e9-a492-75a12dd3c5fc",
   "metadata": {},
   "outputs": [
    {
     "ename": "NameError",
     "evalue": "name 'Model' is not defined",
     "output_type": "error",
     "traceback": [
      "\u001b[1;31m---------------------------------------------------------------------------\u001b[0m",
      "\u001b[1;31mNameError\u001b[0m                                 Traceback (most recent call last)",
      "Cell \u001b[1;32mIn[3], line 14\u001b[0m\n\u001b[0;32m     11\u001b[0m output_layer \u001b[38;5;241m=\u001b[39m Dense(\u001b[38;5;241m1\u001b[39m)(lstm_layer)  \n\u001b[0;32m     13\u001b[0m \u001b[38;5;66;03m# Create the model  \u001b[39;00m\n\u001b[1;32m---> 14\u001b[0m model \u001b[38;5;241m=\u001b[39m Model(inputs\u001b[38;5;241m=\u001b[39minput_layer, outputs\u001b[38;5;241m=\u001b[39moutput_layer)  \n\u001b[0;32m     16\u001b[0m \u001b[38;5;66;03m# Compile the model  \u001b[39;00m\n\u001b[0;32m     17\u001b[0m model\u001b[38;5;241m.\u001b[39mcompile(loss\u001b[38;5;241m=\u001b[39m\u001b[38;5;124m'\u001b[39m\u001b[38;5;124mmean_squared_error\u001b[39m\u001b[38;5;124m'\u001b[39m, optimizer\u001b[38;5;241m=\u001b[39m\u001b[38;5;124m'\u001b[39m\u001b[38;5;124madam\u001b[39m\u001b[38;5;124m'\u001b[39m)  \n",
      "\u001b[1;31mNameError\u001b[0m: name 'Model' is not defined"
     ]
    }
   ],
   "source": [
    "# Create your LSTM model  \n",
    "# The Sequential model is a type of model provided by Keras, which is appropriate for a plain stack of layers where each layer has exactly one input tensor and one output tensor.\n",
    "\n",
    "# Define the input shape  \n",
    "input_layer = Input(shape=(None, 1))  \n",
    "  \n",
    "# Add the LSTM layer  \n",
    "lstm_layer = LSTM(units=50)(input_layer)  \n",
    "  \n",
    "# Add the output layer  \n",
    "output_layer = Dense(1)(lstm_layer)  \n",
    "  \n",
    "# Create the model  \n",
    "model = Model(inputs=input_layer, outputs=output_layer)  \n",
    "  \n",
    "# Compile the model  \n",
    "model.compile(loss='mean_squared_error', optimizer='adam')  \n",
    "  \n",
    "# Train your model  \n",
    "model.fit(trainX, trainY, epochs=100, batch_size=1, verbose=2)  \n",
    "  \n",
    "# Make predictions  \n",
    "trainPredict = model.predict(trainX)  \n",
    "testPredict = model.predict(testX)  \n",
    "  \n",
    "# Invert predictions to original scale  \n",
    "trainPredict = scaler.inverse_transform(trainPredict)  \n",
    "trainY = scaler.inverse_transform([trainY])  \n",
    "testPredict = scaler.inverse_transform(testPredict)  \n",
    "testY = scaler.inverse_transform([testY])  "
   ]
  },
  {
   "cell_type": "code",
   "execution_count": null,
   "id": "9996674b-61b7-468f-aa8c-b9c8ec1a32db",
   "metadata": {},
   "outputs": [],
   "source": []
  }
 ],
 "metadata": {
  "kernelspec": {
   "display_name": "Python 3 (ipykernel)",
   "language": "python",
   "name": "python3"
  },
  "language_info": {
   "codemirror_mode": {
    "name": "ipython",
    "version": 3
   },
   "file_extension": ".py",
   "mimetype": "text/x-python",
   "name": "python",
   "nbconvert_exporter": "python",
   "pygments_lexer": "ipython3",
   "version": "3.11.7"
  }
 },
 "nbformat": 4,
 "nbformat_minor": 5
}
